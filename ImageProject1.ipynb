{
  "nbformat": 4,
  "nbformat_minor": 0,
  "metadata": {
    "colab": {
      "provenance": [],
      "authorship_tag": "ABX9TyP364GZ9BDbgrFHZ/IxdwL2",
      "include_colab_link": true
    },
    "kernelspec": {
      "name": "python3",
      "display_name": "Python 3"
    },
    "language_info": {
      "name": "python"
    }
  },
  "cells": [
    {
      "cell_type": "markdown",
      "metadata": {
        "id": "view-in-github",
        "colab_type": "text"
      },
      "source": [
        "<a href=\"https://colab.research.google.com/github/RadwaFathi/ImageProcessing-ComputerVision/blob/main/ImageProject1.ipynb\" target=\"_parent\"><img src=\"https://colab.research.google.com/assets/colab-badge.svg\" alt=\"Open In Colab\"/></a>"
      ]
    },
    {
      "cell_type": "markdown",
      "source": [
        "# Import needed libraries"
      ],
      "metadata": {
        "id": "KZ6Rk4Jisywk"
      }
    },
    {
      "cell_type": "code",
      "execution_count": null,
      "metadata": {
        "id": "Rg7Vp8eCe2GJ",
        "colab": {
          "base_uri": "https://localhost:8080/"
        },
        "outputId": "4099e6c7-38a1-4072-fc0b-77f281fbca8e"
      },
      "outputs": [
        {
          "output_type": "stream",
          "name": "stderr",
          "text": [
            "WARNING:py.warnings:/usr/local/lib/python3.11/dist-packages/moviepy/video/io/sliders.py:61: SyntaxWarning: \"is\" with a literal. Did you mean \"==\"?\n",
            "  if event.key is 'enter':\n",
            "\n"
          ]
        }
      ],
      "source": [
        "#add imports\n",
        "import cv2\n",
        "import numpy as np\n",
        "import matplotlib.pyplot as plt\n",
        "import os\n",
        "from google.colab import drive\n",
        "import gdown\n",
        "from moviepy.editor import ImageSequenceClip"
      ]
    },
    {
      "cell_type": "markdown",
      "source": [
        "# 1. Video Collection"
      ],
      "metadata": {
        "id": "D983bgVosWIM"
      }
    },
    {
      "cell_type": "code",
      "execution_count": null,
      "metadata": {
        "id": "R-W-XtGhe4hk",
        "colab": {
          "base_uri": "https://localhost:8080/"
        },
        "outputId": "54a1265a-4244-4814-93da-2ce713fe6093"
      },
      "outputs": [
        {
          "output_type": "stream",
          "name": "stderr",
          "text": [
            "Downloading...\n",
            "From: https://drive.google.com/uc?id=1FlF50_uqXuBCRx1Mu5FaCvxUwz5EqWEs\n",
            "To: /content/Computer_Vision_Car_Video.mp4\n",
            "100%|██████████| 3.03M/3.03M [00:00<00:00, 49.6MB/s]"
          ]
        },
        {
          "output_type": "stream",
          "name": "stdout",
          "text": [
            "Video downloaded successfully as Computer_Vision_Car_Video.mp4\n"
          ]
        },
        {
          "output_type": "stream",
          "name": "stderr",
          "text": [
            "\n"
          ]
        }
      ],
      "source": [
        "# Download video from Google Drive\n",
        "shared_link = \"https://drive.google.com/file/d/1FlF50_uqXuBCRx1Mu5FaCvxUwz5EqWEs/view?usp=sharing\"\n",
        "file_id = shared_link.split(\"/d/\")[1].split(\"/view\")[0]\n",
        "download_url = f\"https://drive.google.com/uc?id={file_id}\"\n",
        "video_path = \"Computer_Vision_Car_Video.mp4\"\n",
        "gdown.download(download_url, video_path, quiet=False)\n",
        "print(f\"Video downloaded successfully as {video_path}\")"
      ]
    },
    {
      "cell_type": "markdown",
      "source": [
        "# 2. Video Preprocessing"
      ],
      "metadata": {
        "id": "cyBzVGm_shRo"
      }
    },
    {
      "cell_type": "code",
      "execution_count": null,
      "metadata": {
        "id": "_mG2gmzdfEBB",
        "colab": {
          "base_uri": "https://localhost:8080/"
        },
        "outputId": "e0924a25-a12f-406d-b917-c805935fe807"
      },
      "outputs": [
        {
          "output_type": "stream",
          "name": "stdout",
          "text": [
            "Extracted 120 frames.\n"
          ]
        }
      ],
      "source": [
        "# Create directory for frames\n",
        "frames_dir = \"/content/frames\"\n",
        "os.makedirs(frames_dir, exist_ok=True)\n",
        "\n",
        "cap = cv2.VideoCapture(video_path)\n",
        "fps = cap.get(cv2.CAP_PROP_FPS)\n",
        " # Extract at least 20 frames per second\n",
        "\n",
        "frame_interval = int(fps / 20)\n",
        "frame_count = 0\n",
        "# Store some selected frames for further processing\n",
        "selected_frames = []\n",
        "\n",
        "while cap.isOpened():\n",
        "    ret, frame = cap.read()\n",
        "    if not ret:\n",
        "        break\n",
        "\n",
        "    if frame_count % frame_interval == 0:\n",
        "        #convert frames to gray scale\n",
        "        gray_frame = cv2.cvtColor(frame, cv2.COLOR_BGR2GRAY)\n",
        "\n",
        "        frame_filename = os.path.join(frames_dir, f\"frame_{frame_count}.jpg\")\n",
        "\n",
        "        #save frames to a directory\n",
        "        cv2.imwrite(frame_filename, gray_frame)\n",
        "        selected_frames.append(gray_frame)\n",
        "\n",
        "    frame_count += 1\n",
        "\n",
        "cap.release()\n",
        "print(f\"Extracted {len(selected_frames)} frames.\")"
      ]
    },
    {
      "cell_type": "markdown",
      "source": [
        "# 3. Apply Image Processing Techniques"
      ],
      "metadata": {
        "id": "qDXnFPOrrlgr"
      }
    },
    {
      "cell_type": "markdown",
      "metadata": {
        "id": "oIux9t2g71zO"
      },
      "source": [
        "Histogram Analysis:"
      ]
    },
    {
      "cell_type": "code",
      "execution_count": null,
      "metadata": {
        "id": "u_fYzs0L7zA6",
        "colab": {
          "base_uri": "https://localhost:8080/"
        },
        "outputId": "6a7437f2-c0c3-4e04-c25a-8623576deeae"
      },
      "outputs": [
        {
          "output_type": "stream",
          "name": "stdout",
          "text": [
            "Histogram analysis applied to 120 frames.\n",
            "Histogram images saved in histogram_analysis directory\n"
          ]
        }
      ],
      "source": [
        "# Store histogram visualization frames\n",
        "histogram_frames = []\n",
        "histogram_output_dir = \"histogram_analysis\"\n",
        "os.makedirs(histogram_output_dir, exist_ok=True)\n",
        "\n",
        "for i, gray_frame in enumerate(selected_frames):\n",
        "    # Create histogram visualization\n",
        "    plt.figure(figsize=(10, 4))\n",
        "    plt.hist(gray_frame.ravel(), bins=256, range=[0,256], color='gray', alpha=0.7)\n",
        "    plt.title(f\"Histogram of Frame {i}\")\n",
        "    plt.xlabel(\"Pixel Intensity\")\n",
        "    plt.ylabel(\"Frequency\")\n",
        "\n",
        "    # Save the histogram plot to an image file\n",
        "    hist_filename = os.path.join(histogram_output_dir, f\"hist_{i:04d}.png\")\n",
        "    plt.savefig(hist_filename)\n",
        "    plt.close()\n",
        "\n",
        "    # Read back the saved image and convert to OpenCV format\n",
        "    hist_img = cv2.imread(hist_filename)\n",
        "    histogram_frames.append(hist_img)\n",
        "\n",
        "    # Create side-by-side comparison (original frame + histogram)\n",
        "    frame_colored = cv2.cvtColor(gray_frame, cv2.COLOR_GRAY2BGR)\n",
        "    frame_resized = cv2.resize(frame_colored, (hist_img.shape[1], hist_img.shape[0]))\n",
        "    comparison = np.hstack((frame_resized, hist_img))\n",
        "\n",
        "    # Save the comparison image\n",
        "    comparison_filename = os.path.join(histogram_output_dir, f\"compare_{i:04d}.jpg\")\n",
        "    cv2.imwrite(comparison_filename, comparison)\n",
        "\n",
        "print(f\"Histogram analysis applied to {len(selected_frames)} frames.\")\n",
        "print(f\"Histogram images saved in {histogram_output_dir} directory\")"
      ]
    },
    {
      "cell_type": "markdown",
      "metadata": {
        "id": "47Zb89mmKOHD"
      },
      "source": [
        "Histogram Equalization:"
      ]
    },
    {
      "cell_type": "code",
      "execution_count": null,
      "metadata": {
        "id": "YMEihXTXGO9F",
        "colab": {
          "base_uri": "https://localhost:8080/"
        },
        "outputId": "7059d161-b334-4921-e91e-98ed3c254c77"
      },
      "outputs": [
        {
          "output_type": "stream",
          "name": "stdout",
          "text": [
            "Histogram equalization applied to 120 frames.\n",
            "Comparison images saved in equalized_comparison\n"
          ]
        }
      ],
      "source": [
        "# Store equalized frames\n",
        "equalized_frames = []\n",
        "comparison_output_dir = \"equalized_comparison\"\n",
        "os.makedirs(comparison_output_dir, exist_ok=True)\n",
        "\n",
        "for i, gray_frame in enumerate(selected_frames):\n",
        "    equalized = cv2.equalizeHist(gray_frame)\n",
        "    equalized_frames.append(equalized)\n",
        "\n",
        "    # Stack original and equalized side by side for comparison\n",
        "    comparison = np.hstack((gray_frame, equalized))\n",
        "\n",
        "    # Save the side-by-side image\n",
        "    comparison_filename = os.path.join(comparison_output_dir, f\"compare_{i:04d}.jpg\")\n",
        "    cv2.imwrite(comparison_filename, comparison)\n",
        "\n",
        "print(f\"Histogram equalization applied to {len(equalized_frames)} frames.\")\n",
        "print(f\"Comparison images saved in {comparison_output_dir}\")\n"
      ]
    }
  ]
}